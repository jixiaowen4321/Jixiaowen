{
 "cells": [
  {
   "cell_type": "code",
   "execution_count": null,
   "id": "daa0b7ec-a45c-4749-9984-19ff4a9a591f",
   "metadata": {
    "tags": []
   },
   "outputs": [],
   "source": [
    "import pandas as pd\n",
    "import numpy as np\n",
    "import matplotlib.pyplot as plt\n",
    "import hvplot.pandas\n",
    "import hvplot.dask\n",
    "hvplot.extension('plotly')"
   ]
  },
  {
   "cell_type": "code",
   "execution_count": null,
   "id": "447c1faa-c331-4226-a627-4a0e67208b88",
   "metadata": {
    "tags": []
   },
   "outputs": [],
   "source": [
    "df = pd.read_csv('merged_CorPOS_GAdelivery.csv', engine='c').drop(columns=['Unnamed: 0', 'sample_id'])"
   ]
  },
  {
   "cell_type": "code",
   "execution_count": null,
   "id": "3bd2e365-009a-49ac-9c37-3e48304bf0ed",
   "metadata": {
    "tags": []
   },
   "outputs": [],
   "source": [
    "cols = list(df.columns[:-1])\n",
    "df[cols] = np.log(df[cols])"
   ]
  },
  {
   "cell_type": "code",
   "execution_count": null,
   "id": "e6fa4c5b-25e5-405d-a6a6-0b341ebb46f6",
   "metadata": {
    "tags": []
   },
   "outputs": [],
   "source": [
    "plot = df.hvplot(x='ga_delivery', y=list(df[cols]), kind= scatter, colorbar=True, width=600, height=500, logz=True)"
   ]
  },
  {
   "cell_type": "code",
   "execution_count": null,
   "id": "ed54bb90-7ab3-49f6-b1ef-a1ffb1f3859e",
   "metadata": {},
   "outputs": [],
   "source": []
  },
  {
   "cell_type": "code",
   "execution_count": null,
   "id": "56fc5079-36e9-4c07-88dc-1d9a74cd8f7e",
   "metadata": {
    "tags": []
   },
   "outputs": [],
   "source": [
    "df.hvplot(x='ga_delivery', y=list(df[cols]), kind='scatter')"
   ]
  },
  {
   "cell_type": "code",
   "execution_count": null,
   "id": "c8760941-9b44-48bf-9031-e0da37e27cd2",
   "metadata": {},
   "outputs": [],
   "source": []
  }
 ],
 "metadata": {
  "kernelspec": {
   "display_name": "Python 3 (ipykernel)",
   "language": "python",
   "name": "python3"
  },
  "language_info": {
   "codemirror_mode": {
    "name": "ipython",
    "version": 3
   },
   "file_extension": ".py",
   "mimetype": "text/x-python",
   "name": "python",
   "nbconvert_exporter": "python",
   "pygments_lexer": "ipython3",
   "version": "3.11.5"
  }
 },
 "nbformat": 4,
 "nbformat_minor": 5
}
