{
 "cells": [
  {
   "cell_type": "code",
   "execution_count": 23,
   "id": "22df67ea",
   "metadata": {
    "tags": []
   },
   "outputs": [],
   "source": [
    "# Imports\n",
    "import pandas as pd\n",
    "import numpy as np\n",
    "import matplotlib.pyplot as plt\n",
    "from sklearn.cluster import KMeans\n",
    "from sklearn.decomposition import PCA\n",
    "from sklearn.preprocessing import StandardScaler"
   ]
  },
  {
   "cell_type": "code",
   "execution_count": 24,
   "id": "597e8a3e",
   "metadata": {
    "tags": []
   },
   "outputs": [],
   "source": [
    "df = pd.read_csv('NEG_GAdelivery_ALL-2.csv')"
   ]
  },
  {
   "cell_type": "code",
   "execution_count": 25,
   "id": "82427b94",
   "metadata": {
    "tags": []
   },
   "outputs": [
    {
     "data": {
      "text/plain": [
       "array(['chem_id', 'Pre-term-S47', 'Pre-term-U9', 'Pre-term-S8',\n",
       "       'Pre-term-S7', 'Pre-term-S6', 'Pre-term-U59', 'Pre-term-S58',\n",
       "       'Pre-term-S57', 'Pre-term-S56', 'Pre-term-U55', 'Pre-term-S54',\n",
       "       'Pre-term-U53', 'Pre-term-S52', 'Pre-term-U51', 'Pre-term-U50',\n",
       "       'Pre-term-U5', 'Pre-term-S49', 'Pre-term-S48', 'Pre-term-U46',\n",
       "       'Pre-term-S45', 'Pre-term-S44', 'Pre-term-U43', 'Pre-term-U42',\n",
       "       'Pre-term-U41', 'Pre-term-S40', 'Pre-term-U4', 'Pre-term-S39',\n",
       "       'Pre-term-S38', 'Pre-term-U37', 'Pre-term-U36', 'Pre-term-S35',\n",
       "       'Pre-term-U34', 'Pre-term-S33', 'Pre-term-S32', 'Pre-term-S31',\n",
       "       'Pre-term-U30', 'Pre-term-S3', 'Pre-term-U29', 'Pre-term-U28',\n",
       "       'Pre-term-U27', 'Pre-term-S26', 'Pre-term-U25', 'Pre-term-S24',\n",
       "       'Pre-term-U23', 'Pre-term-U22', 'Pre-term-S21', 'Pre-term-U20',\n",
       "       'Pre-term-S2', 'Pre-term-S19', 'Pre-term-S18', 'Pre-term-S17',\n",
       "       'Pre-term-U16', 'Pre-term-S15', 'Pre-term-U14', 'Pre-term-S13',\n",
       "       'Pre-term-S12', 'Pre-term-U11', 'Pre-term-S10', 'Pre-term-S1',\n",
       "       'Full-term-S22', 'Full-term-S99', 'Full-term-S98', 'Full-term-U97',\n",
       "       'Full-term-S96', 'Full-term-U95', 'Full-term-U94', 'Full-term-U93',\n",
       "       'Full-term-S92', 'Full-term-S91', 'Full-term-S90', 'Full-term-S9',\n",
       "       'Full-term-S89', 'Full-term-U88', 'Full-term-U87', 'Full-term-S86',\n",
       "       'Full-term-U85', 'Full-term-U84', 'Full-term-S83', 'Full-term-U82',\n",
       "       'Full-term-U81', 'Full-term-U80', 'Full-term-U8', 'Full-term-S79',\n",
       "       'Full-term-S78', 'Full-term-U77', 'Full-term-U76', 'Full-term-U75',\n",
       "       'Full-term-U74', 'Full-term-U73', 'Full-term-S72', 'Full-term-S71',\n",
       "       'Full-term-S70', 'Full-term-U7', 'Full-term-S69', 'Full-term-U68',\n",
       "       'Full-term-S67', 'Full-term-U66', 'Full-term-U65', 'Full-term-S64',\n",
       "       'Full-term-S63', 'Full-term-U62', 'Full-term-S61', 'Full-term-S60',\n",
       "       'Full-term-S6', 'Full-term-U59', 'Full-term-U58', 'Full-term-S57',\n",
       "       'Full-term-S56', 'Full-term-U55', 'Full-term-S54', 'Full-term-S53',\n",
       "       'Full-term-U52', 'Full-term-U51', 'Full-term-U50', 'Full-term-S5',\n",
       "       'Full-term-U49', 'Full-term-S48', 'Full-term-S47', 'Full-term-S46',\n",
       "       'Full-term-U45', 'Full-term-U44', 'Full-term-S43', 'Full-term-S42',\n",
       "       'Full-term-U41', 'Full-term-S40', 'Full-term-S4', 'Full-term-U39',\n",
       "       'Full-term-S38', 'Full-term-U37', 'Full-term-U36', 'Full-term-S35',\n",
       "       'Full-term-U34', 'Full-term-S33', 'Full-term-U32', 'Full-term-U31',\n",
       "       'Full-term-U30', 'Full-term-U3', 'Full-term-S29', 'Full-term-S28',\n",
       "       'Full-term-S27', 'Full-term-U26', 'Full-term-U25', 'Full-term-U24',\n",
       "       'Full-term-S23', 'Full-term-U21', 'Full-term-S20', 'Full-term-S2',\n",
       "       'Full-term-U19', 'Full-term-U18', 'Full-term-S17', 'Full-term-U16',\n",
       "       'Full-term-S15', 'Full-term-U14', 'Full-term-U138',\n",
       "       'Full-term-S137', 'Full-term-U136', 'Full-term-S135',\n",
       "       'Full-term-S134', 'Full-term-U133', 'Full-term-U132',\n",
       "       'Full-term-U131', 'Full-term-S130', 'Full-term-U13',\n",
       "       'Full-term-S129', 'Full-term-S128', 'Full-term-S127',\n",
       "       'Full-term-U126', 'Full-term-U125', 'Full-term-U124',\n",
       "       'Full-term-S123', 'Full-term-U122', 'Full-term-S121',\n",
       "       'Full-term-U120', 'Full-term-S12', 'Full-term-U119',\n",
       "       'Full-term-S118', 'Full-term-U117', 'Full-term-U116',\n",
       "       'Full-term-S115', 'Full-term-S114', 'Full-term-U113',\n",
       "       'Full-term-U112', 'Full-term-S111', 'Full-term-S110',\n",
       "       'Full-term-U11', 'Full-term-S109', 'Full-term-S108',\n",
       "       'Full-term-U107', 'Full-term-U106', 'Full-term-U105',\n",
       "       'Full-term-U104', 'Full-term-S103', 'Full-term-S102',\n",
       "       'Full-term-U101', 'Full-term-U100', 'Full-term-S10',\n",
       "       'Full-term-U1'], dtype=object)"
      ]
     },
     "execution_count": 25,
     "metadata": {},
     "output_type": "execute_result"
    }
   ],
   "source": [
    "df.columns.values"
   ]
  },
  {
   "cell_type": "code",
   "execution_count": 26,
   "id": "2e547653",
   "metadata": {
    "tags": []
   },
   "outputs": [],
   "source": [
    "df = df.set_index('chem_id')\n",
    "dr = df.loc[:, 'Pre-term-S47':'Full-term-U1']\n",
    "dr.columns = dr.columns.str.replace('Pre-term', 'P')\n",
    "dr.columns = dr.columns.str.replace('Full-term', 'F')"
   ]
  },
  {
   "cell_type": "code",
   "execution_count": 27,
   "id": "c1df12fc",
   "metadata": {
    "tags": []
   },
   "outputs": [],
   "source": [
    "dr = dr.T"
   ]
  },
  {
   "cell_type": "code",
   "execution_count": 28,
   "id": "bcf95a05",
   "metadata": {
    "tags": []
   },
   "outputs": [],
   "source": [
    "dr['color_MC'] = np.where(dr.index.str.contains('P'), 'red','orange')\n",
    "dr['color_batch'] = np.where(dr.index.str.contains('-b1'), 'darkgray', \n",
    "                    np.where(dr.index.str.contains('-b2'),'dodgerblue',\n",
    "                    np.where(dr.index.str.contains('-b3'), 'red','pink')))"
   ]
  },
  {
   "cell_type": "code",
   "execution_count": 29,
   "id": "5e5a559b",
   "metadata": {
    "tags": []
   },
   "outputs": [],
   "source": [
    "dr12 = dr.loc[:, 'color_MC':'color_batch']\n",
    "dr11 = dr.drop(['color_MC', 'color_batch'], axis=1)"
   ]
  },
  {
   "cell_type": "code",
   "execution_count": 30,
   "id": "9fe857ff",
   "metadata": {
    "tags": []
   },
   "outputs": [],
   "source": [
    "# Standardize the data to have a mean of ~0 and a variance of 1\n",
    "X_std = StandardScaler().fit_transform(dr11)"
   ]
  },
  {
   "cell_type": "code",
   "execution_count": 31,
   "id": "99ed2bbb",
   "metadata": {
    "tags": []
   },
   "outputs": [
    {
     "data": {
      "text/plain": [
       "array([[-1.77563511, -0.48709439,  0.87395011, ..., -0.18044115,\n",
       "        -0.12832063, -0.12225645],\n",
       "       [ 0.62570035,  0.5261905 , -0.74587635, ..., -0.18084207,\n",
       "        -0.12657586, -0.1220527 ],\n",
       "       [ 0.88128928, -0.45771389,  0.22484991, ..., -0.17724194,\n",
       "        -0.12631362, -0.12189896],\n",
       "       ...,\n",
       "       [-0.6578286 , -0.07587901,  1.13540568, ..., -0.17978627,\n",
       "        -0.12563125, -0.12225592],\n",
       "       [ 0.18002919, -0.36431351, -0.39887755, ..., -0.1809699 ,\n",
       "        -0.12740115, -0.12168019],\n",
       "       [-0.11815274,  0.10167858, -0.34918413, ..., -0.17841908,\n",
       "        -0.12569737, -0.12175309]])"
      ]
     },
     "execution_count": 31,
     "metadata": {},
     "output_type": "execute_result"
    }
   ],
   "source": [
    "X_std"
   ]
  },
  {
   "cell_type": "code",
   "execution_count": 32,
   "id": "92b6f8f0",
   "metadata": {
    "tags": []
   },
   "outputs": [],
   "source": [
    "# Create a PCA instance: pca\n",
    "pca = PCA(n_components=20)\n",
    "principalComponents = pca.fit_transform(X_std)"
   ]
  },
  {
   "cell_type": "code",
   "execution_count": 33,
   "id": "a5626d3e",
   "metadata": {
    "tags": []
   },
   "outputs": [
    {
     "data": {
      "text/plain": [
       "array([0.2231684 , 0.11533052, 0.04810631, 0.03688063, 0.03423205,\n",
       "       0.0247416 , 0.02434378, 0.02398757, 0.01936464, 0.01851095,\n",
       "       0.01695454, 0.01506491, 0.01406519, 0.01360013, 0.01294243,\n",
       "       0.01194404, 0.01173907, 0.0109469 , 0.01052889, 0.01020955])"
      ]
     },
     "execution_count": 33,
     "metadata": {},
     "output_type": "execute_result"
    }
   ],
   "source": [
    "pca.explained_variance_ratio_"
   ]
  },
  {
   "cell_type": "code",
   "execution_count": 34,
   "id": "e691df85",
   "metadata": {
    "tags": []
   },
   "outputs": [
    {
     "data": {
      "image/png": "[encoded data removed]",
      "text/plain": [
       "<Figure size 640x480 with 1 Axes>"
      ]
     },
     "metadata": {},
     "output_type": "display_data"
    }
   ],
   "source": [
    "# Plot the explained variances\n",
    "features = range(pca.n_components_)\n",
    "\n",
    "plt.bar(features, pca.explained_variance_ratio_, color='blue')\n",
    "plt.xlabel('PCA features')\n",
    "plt.ylabel('Variance %')\n",
    "plt.xticks(features)\n",
    "#plt.savefig('PCA features and the variance explained.png', dpi=400, bbox_inches = \"tight\")\n",
    "\n",
    "plt.show()"
   ]
  },
  {
   "cell_type": "code",
   "execution_count": 35,
   "id": "263db95d",
   "metadata": {
    "tags": []
   },
   "outputs": [],
   "source": [
    "# Save components to a DataFrame\n",
    "PCA_components = pd.DataFrame(principalComponents)"
   ]
  },
  {
   "cell_type": "code",
   "execution_count": 36,
   "id": "2c5485d3",
   "metadata": {
    "tags": []
   },
   "outputs": [
    {
     "data": {
      "image/png": "[encoded data removed]",
      "text/plain": [
       "<Figure size 640x480 with 1 Axes>"
      ]
     },
     "metadata": {},
     "output_type": "display_data"
    }
   ],
   "source": [
    "plt.scatter(PCA_components[0], PCA_components[1], alpha=.1, color='blue')\n",
    "plt.xlabel('PC1')\n",
    "plt.ylabel('PC2')\n",
    "#plt.savefig('PC1 and PC2 as a scatterplot.png', dpi=400, bbox_inches = \"tight\")\n",
    "plt.show()"
   ]
  },
  {
   "cell_type": "code",
   "execution_count": 37,
   "id": "521dc366",
   "metadata": {
    "tags": []
   },
   "outputs": [
    {
     "name": "stderr",
     "output_type": "stream",
     "text": [
      "C:\\Users\\jix01\\AppData\\Local\\anaconda3\\Lib\\site-packages\\sklearn\\cluster\\_kmeans.py:1382: UserWarning: KMeans is known to have a memory leak on Windows with MKL, when there are less chunks than available threads. You can avoid it by setting the environment variable OMP_NUM_THREADS=1.\n",
      "  warnings.warn(\n",
      "C:\\Users\\jix01\\AppData\\Local\\anaconda3\\Lib\\site-packages\\sklearn\\cluster\\_kmeans.py:1382: UserWarning: KMeans is known to have a memory leak on Windows with MKL, when there are less chunks than available threads. You can avoid it by setting the environment variable OMP_NUM_THREADS=1.\n",
      "  warnings.warn(\n",
      "C:\\Users\\jix01\\AppData\\Local\\anaconda3\\Lib\\site-packages\\sklearn\\cluster\\_kmeans.py:1382: UserWarning: KMeans is known to have a memory leak on Windows with MKL, when there are less chunks than available threads. You can avoid it by setting the environment variable OMP_NUM_THREADS=1.\n",
      "  warnings.warn(\n",
      "C:\\Users\\jix01\\AppData\\Local\\anaconda3\\Lib\\site-packages\\sklearn\\cluster\\_kmeans.py:1382: UserWarning: KMeans is known to have a memory leak on Windows with MKL, when there are less chunks than available threads. You can avoid it by setting the environment variable OMP_NUM_THREADS=1.\n",
      "  warnings.warn(\n",
      "C:\\Users\\jix01\\AppData\\Local\\anaconda3\\Lib\\site-packages\\sklearn\\cluster\\_kmeans.py:1382: UserWarning: KMeans is known to have a memory leak on Windows with MKL, when there are less chunks than available threads. You can avoid it by setting the environment variable OMP_NUM_THREADS=1.\n",
      "  warnings.warn(\n",
      "C:\\Users\\jix01\\AppData\\Local\\anaconda3\\Lib\\site-packages\\sklearn\\cluster\\_kmeans.py:1382: UserWarning: KMeans is known to have a memory leak on Windows with MKL, when there are less chunks than available threads. You can avoid it by setting the environment variable OMP_NUM_THREADS=1.\n",
      "  warnings.warn(\n",
      "C:\\Users\\jix01\\AppData\\Local\\anaconda3\\Lib\\site-packages\\sklearn\\cluster\\_kmeans.py:1382: UserWarning: KMeans is known to have a memory leak on Windows with MKL, when there are less chunks than available threads. You can avoid it by setting the environment variable OMP_NUM_THREADS=1.\n",
      "  warnings.warn(\n",
      "C:\\Users\\jix01\\AppData\\Local\\anaconda3\\Lib\\site-packages\\sklearn\\cluster\\_kmeans.py:1382: UserWarning: KMeans is known to have a memory leak on Windows with MKL, when there are less chunks than available threads. You can avoid it by setting the environment variable OMP_NUM_THREADS=1.\n",
      "  warnings.warn(\n",
      "C:\\Users\\jix01\\AppData\\Local\\anaconda3\\Lib\\site-packages\\sklearn\\cluster\\_kmeans.py:1382: UserWarning: KMeans is known to have a memory leak on Windows with MKL, when there are less chunks than available threads. You can avoid it by setting the environment variable OMP_NUM_THREADS=1.\n",
      "  warnings.warn(\n"
     ]
    },
    {
     "data": {
      "image/png": "[encoded data removed]",
      "text/plain": [
       "<Figure size 640x480 with 1 Axes>"
      ]
     },
     "metadata": {},
     "output_type": "display_data"
    }
   ],
   "source": [
    "ks = range(1, 10)\n",
    "inertias = []\n",
    "for k in ks:\n",
    "    # Create a KMeans instance with k clusters: model\n",
    "    model = KMeans(n_clusters=k, n_init=10)\n",
    "    \n",
    "    # Fit model to samples\n",
    "    model.fit(PCA_components.iloc[:,:3])\n",
    "\n",
    "    # Append the inertia to the list of inertias\n",
    "    inertias.append(model.inertia_)\n",
    "    \n",
    "plt.plot(ks, inertias, '-o', color='black')\n",
    "plt.xlabel('number of clusters, k')\n",
    "plt.ylabel('Inertia')\n",
    "plt.xticks(ks)\n",
    "#plt.savefig('approximation of the optimal number of clusters in the dataset.png', dpi=400, bbox_inches = \"tight\")\n",
    "\n",
    "plt.show()"
   ]
  },
  {
   "cell_type": "code",
   "execution_count": 38,
   "id": "2c3a5c85",
   "metadata": {
    "tags": []
   },
   "outputs": [
    {
     "name": "stderr",
     "output_type": "stream",
     "text": [
      "C:\\Users\\jix01\\AppData\\Local\\anaconda3\\Lib\\site-packages\\sklearn\\cluster\\_kmeans.py:870: FutureWarning: The default value of `n_init` will change from 10 to 'auto' in 1.4. Set the value of `n_init` explicitly to suppress the warning\n",
      "  warnings.warn(\n",
      "C:\\Users\\jix01\\AppData\\Local\\anaconda3\\Lib\\site-packages\\sklearn\\cluster\\_kmeans.py:1382: UserWarning: KMeans is known to have a memory leak on Windows with MKL, when there are less chunks than available threads. You can avoid it by setting the environment variable OMP_NUM_THREADS=1.\n",
      "  warnings.warn(\n"
     ]
    },
    {
     "name": "stdout",
     "output_type": "stream",
     "text": [
      "[1 0 0 0 0 0 0 0 0 1 0 0 0 0 0 0 0 0 0 1 0 0 0 0 1 0 0 0 0 0 0 0 1 1 2 1 3\n",
      " 1 1 0 1 1 1 1 1 1 1 1 1 0 1 1 0 0 0 0 0 0 0 0 3 0 1 0 0 0 0 1 0 0 3 0 0 1\n",
      " 1 0 0 1 1 1 1 1 1 1 1 1 1 0 1 1 0 1 1 1 1 0 0 0 0 0 0 3 0 0 0 0 0 0 0 0 0\n",
      " 3 0 0 0 0 0 0 0 0 0 0 0 0 0 0 0 0 0 0 0 0 3 0 0 0 0 0 0 0 0 0 0 0 0 0 0 0\n",
      " 0 0 0 0 0 0 0 0 0 0 0 0 0 0 0 0 0 0 0 0 0 3 0 0 0 0 0 0 0 0 0 0 3 3 0 0 0\n",
      " 0 0 0 0 0 0 3 0 0 0 0 0]\n"
     ]
    }
   ],
   "source": [
    "from sklearn.cluster import KMeans\n",
    "\n",
    "kmeans4 = KMeans(n_clusters=4)\n",
    "y_kmeans4 =kmeans4.fit_predict(PCA_components)\n",
    "print(y_kmeans4)"
   ]
  },
  {
   "cell_type": "code",
   "execution_count": 39,
   "id": "cf7454df",
   "metadata": {
    "tags": []
   },
   "outputs": [],
   "source": [
    "PCA_components.columns = ['PC'+ str(col) for col in PCA_components.columns]"
   ]
  },
  {
   "cell_type": "code",
   "execution_count": 40,
   "id": "78d036f7",
   "metadata": {
    "tags": []
   },
   "outputs": [],
   "source": [
    "PCA_components = PCA_components.reset_index(drop=True)\n",
    "dr12 = dr12.reset_index(drop=True)"
   ]
  },
  {
   "cell_type": "code",
   "execution_count": 41,
   "id": "a6886d3d",
   "metadata": {
    "tags": []
   },
   "outputs": [],
   "source": [
    "PCA_components = pd.concat([PCA_components, dr12], axis=1)"
   ]
  },
  {
   "cell_type": "code",
   "execution_count": 42,
   "id": "b204fcfb",
   "metadata": {
    "tags": []
   },
   "outputs": [
    {
     "data": {
      "text/html": [
       "<div>\n",
       "<style scoped>\n",
       "    .dataframe tbody tr th:only-of-type {\n",
       "        vertical-align: middle;\n",
       "    }\n",
       "\n",
       "    .dataframe tbody tr th {\n",
       "        vertical-align: top;\n",
       "    }\n",
       "\n",
       "    .dataframe thead th {\n",
       "        text-align: right;\n",
       "    }\n",
       "</style>\n",
       "<table border=\"1\" class=\"dataframe\">\n",
       "  <thead>\n",
       "    <tr style=\"text-align: right;\">\n",
       "      <th></th>\n",
       "      <th>PC0</th>\n",
       "      <th>PC1</th>\n",
       "      <th>PC2</th>\n",
       "      <th>PC3</th>\n",
       "      <th>PC4</th>\n",
       "      <th>PC5</th>\n",
       "      <th>PC6</th>\n",
       "      <th>PC7</th>\n",
       "      <th>PC8</th>\n",
       "      <th>PC9</th>\n",
       "      <th>...</th>\n",
       "      <th>PC12</th>\n",
       "      <th>PC13</th>\n",
       "      <th>PC14</th>\n",
       "      <th>PC15</th>\n",
       "      <th>PC16</th>\n",
       "      <th>PC17</th>\n",
       "      <th>PC18</th>\n",
       "      <th>PC19</th>\n",
       "      <th>color_MC</th>\n",
       "      <th>color_batch</th>\n",
       "    </tr>\n",
       "  </thead>\n",
       "  <tbody>\n",
       "    <tr>\n",
       "      <th>0</th>\n",
       "      <td>-3.625609</td>\n",
       "      <td>7.525699</td>\n",
       "      <td>3.544929</td>\n",
       "      <td>-3.883678</td>\n",
       "      <td>0.713272</td>\n",
       "      <td>67.670832</td>\n",
       "      <td>-9.164590</td>\n",
       "      <td>17.966374</td>\n",
       "      <td>-1.625930</td>\n",
       "      <td>-5.177774</td>\n",
       "      <td>...</td>\n",
       "      <td>-7.888960</td>\n",
       "      <td>-0.253556</td>\n",
       "      <td>-0.525823</td>\n",
       "      <td>0.698029</td>\n",
       "      <td>-3.033928</td>\n",
       "      <td>-0.972426</td>\n",
       "      <td>-0.243591</td>\n",
       "      <td>-1.615876</td>\n",
       "      <td>red</td>\n",
       "      <td>pink</td>\n",
       "    </tr>\n",
       "    <tr>\n",
       "      <th>1</th>\n",
       "      <td>-3.899583</td>\n",
       "      <td>0.494497</td>\n",
       "      <td>0.470117</td>\n",
       "      <td>0.806615</td>\n",
       "      <td>-0.074102</td>\n",
       "      <td>-0.737068</td>\n",
       "      <td>0.484308</td>\n",
       "      <td>0.095398</td>\n",
       "      <td>-0.269886</td>\n",
       "      <td>-0.468069</td>\n",
       "      <td>...</td>\n",
       "      <td>0.671820</td>\n",
       "      <td>0.390536</td>\n",
       "      <td>1.467376</td>\n",
       "      <td>-0.768500</td>\n",
       "      <td>0.171728</td>\n",
       "      <td>-0.279696</td>\n",
       "      <td>-0.965933</td>\n",
       "      <td>-1.996861</td>\n",
       "      <td>red</td>\n",
       "      <td>pink</td>\n",
       "    </tr>\n",
       "    <tr>\n",
       "      <th>2</th>\n",
       "      <td>-4.263747</td>\n",
       "      <td>1.217121</td>\n",
       "      <td>-0.273548</td>\n",
       "      <td>0.392596</td>\n",
       "      <td>-0.493393</td>\n",
       "      <td>-0.901808</td>\n",
       "      <td>-0.202148</td>\n",
       "      <td>-0.471180</td>\n",
       "      <td>-0.305147</td>\n",
       "      <td>0.725458</td>\n",
       "      <td>...</td>\n",
       "      <td>1.711554</td>\n",
       "      <td>3.856151</td>\n",
       "      <td>-0.547525</td>\n",
       "      <td>-0.503617</td>\n",
       "      <td>1.818612</td>\n",
       "      <td>-0.524449</td>\n",
       "      <td>-0.281149</td>\n",
       "      <td>-2.150605</td>\n",
       "      <td>red</td>\n",
       "      <td>pink</td>\n",
       "    </tr>\n",
       "    <tr>\n",
       "      <th>3</th>\n",
       "      <td>-1.560271</td>\n",
       "      <td>-2.184047</td>\n",
       "      <td>-1.619882</td>\n",
       "      <td>-2.174963</td>\n",
       "      <td>-1.273754</td>\n",
       "      <td>-1.229086</td>\n",
       "      <td>-1.493211</td>\n",
       "      <td>0.568766</td>\n",
       "      <td>-0.927507</td>\n",
       "      <td>-0.858609</td>\n",
       "      <td>...</td>\n",
       "      <td>1.030184</td>\n",
       "      <td>2.595973</td>\n",
       "      <td>-1.056738</td>\n",
       "      <td>-0.262561</td>\n",
       "      <td>1.095939</td>\n",
       "      <td>-0.294518</td>\n",
       "      <td>0.122254</td>\n",
       "      <td>-1.110123</td>\n",
       "      <td>red</td>\n",
       "      <td>pink</td>\n",
       "    </tr>\n",
       "    <tr>\n",
       "      <th>4</th>\n",
       "      <td>-4.667792</td>\n",
       "      <td>-0.543716</td>\n",
       "      <td>-0.740778</td>\n",
       "      <td>0.044050</td>\n",
       "      <td>-0.627995</td>\n",
       "      <td>-0.913637</td>\n",
       "      <td>0.094212</td>\n",
       "      <td>0.329374</td>\n",
       "      <td>-0.232321</td>\n",
       "      <td>0.687595</td>\n",
       "      <td>...</td>\n",
       "      <td>2.211214</td>\n",
       "      <td>1.719596</td>\n",
       "      <td>-0.590334</td>\n",
       "      <td>0.618924</td>\n",
       "      <td>1.703515</td>\n",
       "      <td>-1.574443</td>\n",
       "      <td>-0.637453</td>\n",
       "      <td>-0.530110</td>\n",
       "      <td>red</td>\n",
       "      <td>pink</td>\n",
       "    </tr>\n",
       "    <tr>\n",
       "      <th>...</th>\n",
       "      <td>...</td>\n",
       "      <td>...</td>\n",
       "      <td>...</td>\n",
       "      <td>...</td>\n",
       "      <td>...</td>\n",
       "      <td>...</td>\n",
       "      <td>...</td>\n",
       "      <td>...</td>\n",
       "      <td>...</td>\n",
       "      <td>...</td>\n",
       "      <td>...</td>\n",
       "      <td>...</td>\n",
       "      <td>...</td>\n",
       "      <td>...</td>\n",
       "      <td>...</td>\n",
       "      <td>...</td>\n",
       "      <td>...</td>\n",
       "      <td>...</td>\n",
       "      <td>...</td>\n",
       "      <td>...</td>\n",
       "      <td>...</td>\n",
       "    </tr>\n",
       "    <tr>\n",
       "      <th>192</th>\n",
       "      <td>-5.134238</td>\n",
       "      <td>-2.835127</td>\n",
       "      <td>1.045579</td>\n",
       "      <td>0.123580</td>\n",
       "      <td>0.072121</td>\n",
       "      <td>0.542103</td>\n",
       "      <td>0.018717</td>\n",
       "      <td>-0.928816</td>\n",
       "      <td>0.871448</td>\n",
       "      <td>-2.291670</td>\n",
       "      <td>...</td>\n",
       "      <td>-0.662539</td>\n",
       "      <td>0.659802</td>\n",
       "      <td>1.967750</td>\n",
       "      <td>-2.145618</td>\n",
       "      <td>0.042401</td>\n",
       "      <td>-0.808908</td>\n",
       "      <td>-0.411526</td>\n",
       "      <td>-0.845247</td>\n",
       "      <td>orange</td>\n",
       "      <td>pink</td>\n",
       "    </tr>\n",
       "    <tr>\n",
       "      <th>193</th>\n",
       "      <td>-7.486166</td>\n",
       "      <td>-7.787290</td>\n",
       "      <td>0.357291</td>\n",
       "      <td>0.949418</td>\n",
       "      <td>0.244648</td>\n",
       "      <td>-0.333052</td>\n",
       "      <td>0.032560</td>\n",
       "      <td>0.167481</td>\n",
       "      <td>-0.034772</td>\n",
       "      <td>-0.232068</td>\n",
       "      <td>...</td>\n",
       "      <td>-0.684066</td>\n",
       "      <td>0.349438</td>\n",
       "      <td>0.150531</td>\n",
       "      <td>-0.238812</td>\n",
       "      <td>0.999264</td>\n",
       "      <td>0.222167</td>\n",
       "      <td>-0.220507</td>\n",
       "      <td>2.136319</td>\n",
       "      <td>orange</td>\n",
       "      <td>pink</td>\n",
       "    </tr>\n",
       "    <tr>\n",
       "      <th>194</th>\n",
       "      <td>-5.272348</td>\n",
       "      <td>-2.196582</td>\n",
       "      <td>1.305008</td>\n",
       "      <td>-0.071208</td>\n",
       "      <td>-0.153693</td>\n",
       "      <td>1.488440</td>\n",
       "      <td>-0.589913</td>\n",
       "      <td>-0.720823</td>\n",
       "      <td>1.217600</td>\n",
       "      <td>-2.249595</td>\n",
       "      <td>...</td>\n",
       "      <td>-0.200455</td>\n",
       "      <td>0.793091</td>\n",
       "      <td>1.980653</td>\n",
       "      <td>-3.550646</td>\n",
       "      <td>0.299081</td>\n",
       "      <td>-0.158319</td>\n",
       "      <td>-0.386257</td>\n",
       "      <td>-1.564162</td>\n",
       "      <td>orange</td>\n",
       "      <td>pink</td>\n",
       "    </tr>\n",
       "    <tr>\n",
       "      <th>195</th>\n",
       "      <td>-7.234088</td>\n",
       "      <td>-7.050359</td>\n",
       "      <td>0.036744</td>\n",
       "      <td>0.550016</td>\n",
       "      <td>-0.024297</td>\n",
       "      <td>3.418509</td>\n",
       "      <td>-0.234040</td>\n",
       "      <td>1.283738</td>\n",
       "      <td>-1.201106</td>\n",
       "      <td>0.403520</td>\n",
       "      <td>...</td>\n",
       "      <td>-0.355140</td>\n",
       "      <td>1.414107</td>\n",
       "      <td>-0.891065</td>\n",
       "      <td>1.800946</td>\n",
       "      <td>1.888372</td>\n",
       "      <td>0.266092</td>\n",
       "      <td>-0.044754</td>\n",
       "      <td>1.465018</td>\n",
       "      <td>orange</td>\n",
       "      <td>pink</td>\n",
       "    </tr>\n",
       "    <tr>\n",
       "      <th>196</th>\n",
       "      <td>-5.676753</td>\n",
       "      <td>-3.917959</td>\n",
       "      <td>0.712366</td>\n",
       "      <td>-0.021922</td>\n",
       "      <td>-0.168461</td>\n",
       "      <td>0.471703</td>\n",
       "      <td>-0.101092</td>\n",
       "      <td>-0.788923</td>\n",
       "      <td>0.503898</td>\n",
       "      <td>-1.387660</td>\n",
       "      <td>...</td>\n",
       "      <td>0.218845</td>\n",
       "      <td>-0.239162</td>\n",
       "      <td>1.568118</td>\n",
       "      <td>-2.042651</td>\n",
       "      <td>0.300180</td>\n",
       "      <td>-0.086242</td>\n",
       "      <td>0.132734</td>\n",
       "      <td>-0.485722</td>\n",
       "      <td>orange</td>\n",
       "      <td>pink</td>\n",
       "    </tr>\n",
       "  </tbody>\n",
       "</table>\n",
       "<p>197 rows × 22 columns</p>\n",
       "</div>"
      ],
      "text/plain": [
       "          PC0       PC1       PC2       PC3       PC4        PC5       PC6  \\\n",
       "0   -3.625609  7.525699  3.544929 -3.883678  0.713272  67.670832 -9.164590   \n",
       "1   -3.899583  0.494497  0.470117  0.806615 -0.074102  -0.737068  0.484308   \n",
       "2   -4.263747  1.217121 -0.273548  0.392596 -0.493393  -0.901808 -0.202148   \n",
       "3   -1.560271 -2.184047 -1.619882 -2.174963 -1.273754  -1.229086 -1.493211   \n",
       "4   -4.667792 -0.543716 -0.740778  0.044050 -0.627995  -0.913637  0.094212   \n",
       "..        ...       ...       ...       ...       ...        ...       ...   \n",
       "192 -5.134238 -2.835127  1.045579  0.123580  0.072121   0.542103  0.018717   \n",
       "193 -7.486166 -7.787290  0.357291  0.949418  0.244648  -0.333052  0.032560   \n",
       "194 -5.272348 -2.196582  1.305008 -0.071208 -0.153693   1.488440 -0.589913   \n",
       "195 -7.234088 -7.050359  0.036744  0.550016 -0.024297   3.418509 -0.234040   \n",
       "196 -5.676753 -3.917959  0.712366 -0.021922 -0.168461   0.471703 -0.101092   \n",
       "\n",
       "           PC7       PC8       PC9  ...      PC12      PC13      PC14  \\\n",
       "0    17.966374 -1.625930 -5.177774  ... -7.888960 -0.253556 -0.525823   \n",
       "1     0.095398 -0.269886 -0.468069  ...  0.671820  0.390536  1.467376   \n",
       "2    -0.471180 -0.305147  0.725458  ...  1.711554  3.856151 -0.547525   \n",
       "3     0.568766 -0.927507 -0.858609  ...  1.030184  2.595973 -1.056738   \n",
       "4     0.329374 -0.232321  0.687595  ...  2.211214  1.719596 -0.590334   \n",
       "..         ...       ...       ...  ...       ...       ...       ...   \n",
       "192  -0.928816  0.871448 -2.291670  ... -0.662539  0.659802  1.967750   \n",
       "193   0.167481 -0.034772 -0.232068  ... -0.684066  0.349438  0.150531   \n",
       "194  -0.720823  1.217600 -2.249595  ... -0.200455  0.793091  1.980653   \n",
       "195   1.283738 -1.201106  0.403520  ... -0.355140  1.414107 -0.891065   \n",
       "196  -0.788923  0.503898 -1.387660  ...  0.218845 -0.239162  1.568118   \n",
       "\n",
       "         PC15      PC16      PC17      PC18      PC19  color_MC  color_batch  \n",
       "0    0.698029 -3.033928 -0.972426 -0.243591 -1.615876       red         pink  \n",
       "1   -0.768500  0.171728 -0.279696 -0.965933 -1.996861       red         pink  \n",
       "2   -0.503617  1.818612 -0.524449 -0.281149 -2.150605       red         pink  \n",
       "3   -0.262561  1.095939 -0.294518  0.122254 -1.110123       red         pink  \n",
       "4    0.618924  1.703515 -1.574443 -0.637453 -0.530110       red         pink  \n",
       "..        ...       ...       ...       ...       ...       ...          ...  \n",
       "192 -2.145618  0.042401 -0.808908 -0.411526 -0.845247    orange         pink  \n",
       "193 -0.238812  0.999264  0.222167 -0.220507  2.136319    orange         pink  \n",
       "194 -3.550646  0.299081 -0.158319 -0.386257 -1.564162    orange         pink  \n",
       "195  1.800946  1.888372  0.266092 -0.044754  1.465018    orange         pink  \n",
       "196 -2.042651  0.300180 -0.086242  0.132734 -0.485722    orange         pink  \n",
       "\n",
       "[197 rows x 22 columns]"
      ]
     },
     "execution_count": 42,
     "metadata": {},
     "output_type": "execute_result"
    }
   ],
   "source": [
    "PCA_components"
   ]
  },
  {
   "cell_type": "code",
   "execution_count": 43,
   "id": "757392bb",
   "metadata": {
    "tags": []
   },
   "outputs": [],
   "source": [
    "import matplotlib.pyplot as plt\n",
    "import seaborn as sns\n",
    "from statannot import add_stat_annotation"
   ]
  },
  {
   "cell_type": "code",
   "execution_count": 44,
   "id": "b021543d-1efb-4a37-8126-f0ae05850164",
   "metadata": {},
   "outputs": [],
   "source": [
    "df = PCA_components\n",
    "df.to_csv('PCA.csv')"
   ]
  },
  {
   "cell_type": "code",
   "execution_count": 45,
   "id": "c1767b83",
   "metadata": {
    "tags": []
   },
   "outputs": [
    {
     "name": "stdout",
     "output_type": "stream",
     "text": [
      "p-value annotation legend:\n",
      "ns: 5.00e-02 < p <= 1.00e+00\n",
      "*: 1.00e-02 < p <= 5.00e-02\n",
      "**: 1.00e-03 < p <= 1.00e-02\n",
      "***: 1.00e-04 < p <= 1.00e-03\n",
      "****: p <= 1.00e-04\n",
      "\n",
      "P v.s. F: Mann-Whitney-Wilcoxon test two-sided with Bonferroni correction, P_val=6.043e-06 U_stat=5.730e+03\n"
     ]
    },
    {
     "data": {
      "image/png": "[encoded data removed]",
      "text/plain": [
       "<Figure size 640x480 with 1 Axes>"
      ]
     },
     "metadata": {},
     "output_type": "display_data"
    }
   ],
   "source": [
    "df = PCA_components\n",
    "df['color_MC'] = df['color_MC'].str.replace('red','P')\n",
    "df['color_MC'] = df['color_MC'].str.replace('orange','F')\n",
    "\n",
    "x = \"color_MC\"\n",
    "y = \"PC0\"\n",
    "my_pal = {\"P\": \"red\", \"F\": \"orange\"}\n",
    "order = ['P', 'F']\n",
    "ax = sns.boxplot(data=df, x=x, y=y, order=order, palette=my_pal) \n",
    "plt.xlabel('Sample type')\n",
    "plt.ylabel('PC1')\n",
    "add_stat_annotation(ax, data=df, x=x, y=y, order=order,\n",
    "                    box_pairs=[(\"P\", \"F\")],\n",
    "                    test='Mann-Whitney', text_format='star', loc='outside', verbose=2)\n",
    "plt.savefig('boxplot for PC1 by sample type.png', dpi=400, bbox_inches = \"tight\")"
   ]
  },
  {
   "cell_type": "code",
   "execution_count": null,
   "id": "c4c08e8c",
   "metadata": {},
   "outputs": [],
   "source": []
  }
 ],
 "metadata": {
  "kernelspec": {
   "display_name": "Python 3 (ipykernel)",
   "language": "python",
   "name": "python3"
  },
  "language_info": {
   "codemirror_mode": {
    "name": "ipython",
    "version": 3
   },
   "file_extension": ".py",
   "mimetype": "text/x-python",
   "name": "python",
   "nbconvert_exporter": "python",
   "pygments_lexer": "ipython3",
   "version": "3.11.5"
  }
 },
 "nbformat": 4,
 "nbformat_minor": 5
}
