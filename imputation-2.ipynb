{
 "cells": [
  {
   "cell_type": "code",
   "execution_count": 4,
   "id": "fc5e262f-57d1-4f8b-a3b6-1e882bce4240",
   "metadata": {
    "tags": []
   },
   "outputs": [],
   "source": [
    "import pandas as pd\n",
    "import numpy as np\n",
    "from scipy import stats"
   ]
  },
  {
   "cell_type": "code",
   "execution_count": 6,
   "id": "9f00d466-5d25-4010-9fe8-6af6c7a950a4",
   "metadata": {
    "tags": []
   },
   "outputs": [],
   "source": [
    "df1 = pd.read_csv('Fullms-alignment neg.csv')"
   ]
  },
  {
   "cell_type": "code",
   "execution_count": null,
   "id": "53e975a5-5a2e-417f-9651-06691456c589",
   "metadata": {
    "tags": []
   },
   "outputs": [],
   "source": [
    "df1a = df1.loc[:,'chem_id']\n",
    "df1c = df1.loc[:,'serum-1-1':'urine-2-42']\n",
    "df1[df1<1000]=np.NaN"
   ]
  },
  {
   "cell_type": "code",
   "execution_count": null,
   "id": "87e5f5be-33f9-4b42-8cb0-4f23efaf3ac9",
   "metadata": {
    "tags": []
   },
   "outputs": [],
   "source": [
    "df1c0 = df1c.replace(0,np.NaN)"
   ]
  },
  {
   "cell_type": "code",
   "execution_count": null,
   "id": "f214507d-a10e-47e6-96a3-3fcb2f9cf348",
   "metadata": {
    "tags": []
   },
   "outputs": [],
   "source": [
    "df1cL = np.log10(df1c0)"
   ]
  },
  {
   "cell_type": "code",
   "execution_count": null,
   "id": "6295bc80-eeb0-43e1-864b-82b498f3f05d",
   "metadata": {
    "tags": []
   },
   "outputs": [],
   "source": [
    "def fillNaN_with_unifrand(df):\n",
    "    lower, upper = 0, df.min()\n",
    "    a = df.values\n",
    "    m = np.isnan(a)\n",
    "    mn, sigma = df.min(), df.std()\n",
    "    a[m] = stats.truncnorm.rvs(\n",
    "        (lower-mn)/sigma,(upper-mn)/sigma, loc=mn, scale=sigma, size=m.sum()\n",
    "    )\n",
    "    return df"
   ]
  },
  {
   "cell_type": "code",
   "execution_count": 7,
   "id": "22f5b46c-bbc3-462c-b842-2a9319ecf99f",
   "metadata": {
    "tags": []
   },
   "outputs": [],
   "source": [
    "df1cLmod = df1cL.apply(fillNaN_with_unifrand)"
   ]
  },
  {
   "cell_type": "code",
   "execution_count": 8,
   "id": "a4344417-11f4-4de8-b5f0-f4b820e9d874",
   "metadata": {
    "tags": []
   },
   "outputs": [],
   "source": [
    "df1cLmod = 10**df1cLmod"
   ]
  },
  {
   "cell_type": "code",
   "execution_count": 9,
   "id": "a041e275-4a6b-42b1-8f62-5733f5ba8946",
   "metadata": {
    "tags": []
   },
   "outputs": [],
   "source": [
    "df1 = pd.concat([df1a,df1cLmod],axis=1)\n",
    "df1.to_csv('Fullms-alignment neg-no blanks-imputed.csv')"
   ]
  },
  {
   "cell_type": "code",
   "execution_count": null,
   "id": "18fd67be",
   "metadata": {},
   "outputs": [],
   "source": []
  }
 ],
 "metadata": {
  "kernelspec": {
   "display_name": "Python 3 (ipykernel)",
   "language": "python",
   "name": "python3"
  },
  "language_info": {
   "codemirror_mode": {
    "name": "ipython",
    "version": 3
   },
   "file_extension": ".py",
   "mimetype": "text/x-python",
   "name": "python",
   "nbconvert_exporter": "python",
   "pygments_lexer": "ipython3",
   "version": "3.11.5"
  }
 },
 "nbformat": 4,
 "nbformat_minor": 5
}
